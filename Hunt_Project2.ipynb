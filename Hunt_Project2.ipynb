{
 "cells": [
  {
   "cell_type": "code",
   "execution_count": 50,
   "metadata": {},
   "outputs": [
    {
     "name": "stdout",
     "output_type": "stream",
     "text": [
      "Player\n",
      "A Lord              1\n",
      "GLANSDALE           1\n",
      "JOHN MORTIMER       1\n",
      "ATTENDANT           1\n",
      "All The Lords       1\n",
      "                 ... \n",
      "MARK ANTONY       917\n",
      "BRUTUS           1029\n",
      "KING HENRY V     1073\n",
      "GLOUCESTER       1150\n",
      "HAMLET           1566\n",
      "Name: PlayerLine, Length: 607, dtype: int64\n"
     ]
    },
    {
     "ename": "AttributeError",
     "evalue": "'Series' object has no attribute 'show'",
     "output_type": "error",
     "traceback": [
      "\u001b[0;31m---------------------------------------------------------------------------\u001b[0m",
      "\u001b[0;31mAttributeError\u001b[0m                            Traceback (most recent call last)",
      "\u001b[0;32m<ipython-input-50-dd95ffbf34a2>\u001b[0m in \u001b[0;36m<module>\u001b[0;34m\u001b[0m\n\u001b[1;32m     10\u001b[0m \u001b[0;34m\u001b[0m\u001b[0m\n\u001b[1;32m     11\u001b[0m \u001b[0mnumLines\u001b[0m\u001b[0;34m.\u001b[0m\u001b[0mplot\u001b[0m\u001b[0;34m(\u001b[0m \u001b[0my\u001b[0m\u001b[0;34m=\u001b[0m\u001b[0;34m'Player'\u001b[0m\u001b[0;34m,\u001b[0m\u001b[0mx\u001b[0m\u001b[0;34m=\u001b[0m\u001b[0;34m'Playerlines'\u001b[0m\u001b[0;34m,\u001b[0m\u001b[0mcolor\u001b[0m \u001b[0;34m=\u001b[0m \u001b[0;34m'Red'\u001b[0m\u001b[0;34m,\u001b[0m\u001b[0mlabel\u001b[0m \u001b[0;34m=\u001b[0m\u001b[0;34m'Lines said per player'\u001b[0m\u001b[0;34m)\u001b[0m\u001b[0;34m\u001b[0m\u001b[0;34m\u001b[0m\u001b[0m\n\u001b[0;32m---> 12\u001b[0;31m \u001b[0mnumLines\u001b[0m\u001b[0;34m.\u001b[0m\u001b[0mshow\u001b[0m\u001b[0;34m(\u001b[0m\u001b[0;34m)\u001b[0m\u001b[0;34m\u001b[0m\u001b[0;34m\u001b[0m\u001b[0m\n\u001b[0m\u001b[1;32m     13\u001b[0m \u001b[0;34m\u001b[0m\u001b[0m\n\u001b[1;32m     14\u001b[0m \u001b[0;31m#new = new.to_excel('Desktop/output.xlsx')\u001b[0m\u001b[0;34m\u001b[0m\u001b[0;34m\u001b[0m\u001b[0;34m\u001b[0m\u001b[0m\n",
      "\u001b[0;32m~/opt/anaconda3/lib/python3.8/site-packages/pandas/core/generic.py\u001b[0m in \u001b[0;36m__getattr__\u001b[0;34m(self, name)\u001b[0m\n\u001b[1;32m   5272\u001b[0m             \u001b[0;32mif\u001b[0m \u001b[0mself\u001b[0m\u001b[0;34m.\u001b[0m\u001b[0m_info_axis\u001b[0m\u001b[0;34m.\u001b[0m\u001b[0m_can_hold_identifiers_and_holds_name\u001b[0m\u001b[0;34m(\u001b[0m\u001b[0mname\u001b[0m\u001b[0;34m)\u001b[0m\u001b[0;34m:\u001b[0m\u001b[0;34m\u001b[0m\u001b[0;34m\u001b[0m\u001b[0m\n\u001b[1;32m   5273\u001b[0m                 \u001b[0;32mreturn\u001b[0m \u001b[0mself\u001b[0m\u001b[0;34m[\u001b[0m\u001b[0mname\u001b[0m\u001b[0;34m]\u001b[0m\u001b[0;34m\u001b[0m\u001b[0;34m\u001b[0m\u001b[0m\n\u001b[0;32m-> 5274\u001b[0;31m             \u001b[0;32mreturn\u001b[0m \u001b[0mobject\u001b[0m\u001b[0;34m.\u001b[0m\u001b[0m__getattribute__\u001b[0m\u001b[0;34m(\u001b[0m\u001b[0mself\u001b[0m\u001b[0;34m,\u001b[0m \u001b[0mname\u001b[0m\u001b[0;34m)\u001b[0m\u001b[0;34m\u001b[0m\u001b[0;34m\u001b[0m\u001b[0m\n\u001b[0m\u001b[1;32m   5275\u001b[0m \u001b[0;34m\u001b[0m\u001b[0m\n\u001b[1;32m   5276\u001b[0m     \u001b[0;32mdef\u001b[0m \u001b[0m__setattr__\u001b[0m\u001b[0;34m(\u001b[0m\u001b[0mself\u001b[0m\u001b[0;34m,\u001b[0m \u001b[0mname\u001b[0m\u001b[0;34m:\u001b[0m \u001b[0mstr\u001b[0m\u001b[0;34m,\u001b[0m \u001b[0mvalue\u001b[0m\u001b[0;34m)\u001b[0m \u001b[0;34m->\u001b[0m \u001b[0;32mNone\u001b[0m\u001b[0;34m:\u001b[0m\u001b[0;34m\u001b[0m\u001b[0;34m\u001b[0m\u001b[0m\n",
      "\u001b[0;31mAttributeError\u001b[0m: 'Series' object has no attribute 'show'"
     ]
    },
    {
     "data": {
      "image/png": "[encoded data removed]",
      "text/plain": [
       "<Figure size 432x288 with 1 Axes>"
      ]
     },
     "metadata": {
      "needs_background": "light"
     },
     "output_type": "display_data"
    }
   ],
   "source": [
    "import numpy as np\n",
    "import pandas as pd\n",
    "\n",
    "\n",
    "data = pd.read_excel('Desktop/Shakespeare_data.xlsx')\n",
    "\n",
    "numLines = data.groupby(['Player'])['PlayerLine'].nunique()\n",
    "numLines = numLines.sort_values()\n",
    "print(numLines)\n",
    "\n",
    "numLines.plot( y='Player',x='Playerlines',color = 'Red',label ='Lines said per player')\n",
    "numLines.show()\n",
    "\n",
    "#new = new.to_excel('Desktop/output.xlsx') \n",
    "numLines = data.drop(columns=['Dataline','PlayerLinenumber', 'ActSceneLine'])\n",
    "numLines = numLines.to_excel('Desktop/out2.xlsx') \n",
    "\n",
    "\n",
    "\n",
    "#Documentation:\n",
    "\n",
    "#Ideas for feature engineering:\n",
    "#1. Observing the language used in Shakespeare would be helpful -- finding the number of occurences in certain words\n",
    "#2. It would be helpful for a graph that takes the character name on the x-axis and plots each important detail on the \n",
    "#y-axis, meaning above Hamlet would have the scenes he appears in, the lines, the number of lines said\n",
    "#3. ---- the one I wish to implement ----- having the x-axis consist of each character, the y-axis is responsible\n",
    "# for keeping track of the number of lines said by the character -> Hamlet has 300 total lines in his story, King Henry \n",
    "# said 50, etc. this is helpful for knowling the most relevant character in the story \n",
    "\n",
    "#Process:\n",
    "#In order to see how many lines each player had, first I had to condense the Player list, so that each player was \n",
    "#only listed once, then I used the sum() to add up the playerlines for each player. Interestingly enough, this created\n",
    "#a new column, called dataline which was perhaps the summed value of the original Playerlinenumber? Since this was\n",
    "#interfering with the plot() I decided to drop this. Lastly, I sorted the values from lowest to highest to make the \n",
    "#graph more readable. \n",
    "\n",
    "#Results:\n",
    "#As one could guess, Hamlet has the most lines said, at 90k lines!! No wonder he is arguably the most memorable \n",
    "#character by Shakespeare \n",
    "\n",
    "#Results (FAIL):\n",
    "#with only 100k lines in the whole entire data set, there is NO WAY Hamlet said 90k of these. \n",
    "#Revision needed -- it turns out that the .sum() was adding up the PlayerlineNumber column and Dataline column only :(\n",
    "#why would it not sum up the PlayerLine in a 3rd column???\n",
    "#I believe it is because the PlayerLine is a string and therefore not able to be added like a number. If I were more \n",
    "#capable, I would make it so that each PlayerLine is assigned to a value of 1, so it would add up the actual\n",
    "#number of PlayerLines and give helpful data\n",
    "\n",
    "#Results (FIXED):\n",
    "#At first I attepted to rename the lines (1-however many said per character), but it just listed it from 1-63,000,\n",
    "#instead, I usedGroupBy Players and non unique playerlines. this did the trick!!!\n",
    "#Hamlet is still #1, saying 1566 lines, which is much more believeable! The results determined that a good amount\n",
    "#of players said little to no lines. To further the usefullness of this data, seeing the percentage of characters\n",
    "# who said less then a specified number of lines would be meaningful"
   ]
  },
  {
   "cell_type": "code",
   "execution_count": null,
   "metadata": {},
   "outputs": [],
   "source": []
  },
  {
   "cell_type": "code",
   "execution_count": null,
   "metadata": {},
   "outputs": [],
   "source": []
  }
 ],
 "metadata": {
  "kernelspec": {
   "display_name": "Python 3",
   "language": "python",
   "name": "python3"
  },
  "language_info": {
   "codemirror_mode": {
    "name": "ipython",
    "version": 3
   },
   "file_extension": ".py",
   "mimetype": "text/x-python",
   "name": "python",
   "nbconvert_exporter": "python",
   "pygments_lexer": "ipython3",
   "version": "3.8.3"
  }
 },
 "nbformat": 4,
 "nbformat_minor": 4
}
